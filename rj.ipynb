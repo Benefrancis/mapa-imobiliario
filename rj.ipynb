{
 "nbformat": 4,
 "nbformat_minor": 0,
 "metadata": {
  "colab": {
   "provenance": [],
   "mount_file_id": "1UiwAOq-GcWrSNN9OfZBj05TRU8WJ4pZ9",
   "authorship_tag": "ABX9TyNuJ45WFToTTvOgXaLmyhF2"
  },
  "kernelspec": {
   "name": "python3",
   "display_name": "Python 3"
  },
  "language_info": {
   "name": "python"
  }
 },
 "cells": [
  {
   "cell_type": "code",
   "source": [
    "import geopandas as gpd"
   ],
   "metadata": {
    "id": "HgQ_OILpS9db",
    "executionInfo": {
     "status": "ok",
     "timestamp": 1686849553608,
     "user_tz": 180,
     "elapsed": 706,
     "user": {
      "displayName": "Joao Miranda",
      "userId": "01467276596263397217"
     }
    }
   },
   "execution_count": null,
   "outputs": []
  },
  {
   "cell_type": "markdown",
   "metadata": {
    "id": "19PnE-RB-1-O"
   },
   "source": [
    "### Explorando os dados geográficos"
   ]
  },
  {
   "cell_type": "code",
   "source": [
    "rj = gpd.read_file('rj_setores_censitarios/33SEE250GC_SIR.shp')\n",
    "rj"
   ],
   "metadata": {
    "colab": {
     "base_uri": "https://localhost:8080/",
     "height": 1000
    },
    "id": "j1WnVtHdTAXz",
    "executionInfo": {
     "status": "ok",
     "timestamp": 1686849566704,
     "user_tz": 180,
     "elapsed": 13097,
     "user": {
      "displayName": "Joao Miranda",
      "userId": "01467276596263397217"
     }
    },
    "outputId": "de40dbff-4030-4dd9-92e8-40ef02084e30"
   },
   "execution_count": null,
   "outputs": []
  },
  {
   "cell_type": "code",
   "source": [
    "rj.plot();"
   ],
   "metadata": {
    "colab": {
     "base_uri": "https://localhost:8080/",
     "height": 415
    },
    "id": "2_mP_pgsTBdS",
    "executionInfo": {
     "status": "ok",
     "timestamp": 1686849576379,
     "user_tz": 180,
     "elapsed": 9677,
     "user": {
      "displayName": "Joao Miranda",
      "userId": "01467276596263397217"
     }
    },
    "outputId": "4f911eda-4809-4c67-85be-8ca2d0237e96"
   },
   "execution_count": null,
   "outputs": []
  },
  {
   "cell_type": "code",
   "source": [
    "cidade_rio = rj[rj['NM_MUNICIP'] == 'RIO DE JANEIRO']\n",
    "cidade_rio"
   ],
   "metadata": {
    "colab": {
     "base_uri": "https://localhost:8080/",
     "height": 1000
    },
    "id": "IRdpE5XqTCL0",
    "executionInfo": {
     "status": "ok",
     "timestamp": 1686849576379,
     "user_tz": 180,
     "elapsed": 6,
     "user": {
      "displayName": "Joao Miranda",
      "userId": "01467276596263397217"
     }
    },
    "outputId": "70e0a6ab-6816-4b3e-a576-9723ca059d0e"
   },
   "execution_count": null,
   "outputs": []
  },
  {
   "cell_type": "code",
   "source": [
    "cidade_rio.plot();"
   ],
   "metadata": {
    "colab": {
     "base_uri": "https://localhost:8080/",
     "height": 320
    },
    "id": "HxL6jHQwTDVR",
    "executionInfo": {
     "status": "ok",
     "timestamp": 1686849579112,
     "user_tz": 180,
     "elapsed": 2738,
     "user": {
      "displayName": "Joao Miranda",
      "userId": "01467276596263397217"
     }
    },
    "outputId": "06e1f50d-ba68-48f0-d1de-a683da6416f0"
   },
   "execution_count": null,
   "outputs": []
  },
  {
   "cell_type": "code",
   "source": [
    "import folium"
   ],
   "metadata": {
    "id": "AK4C-sK8W0jW",
    "executionInfo": {
     "status": "ok",
     "timestamp": 1686849579716,
     "user_tz": 180,
     "elapsed": 608,
     "user": {
      "displayName": "Joao Miranda",
      "userId": "01467276596263397217"
     }
    }
   },
   "execution_count": null,
   "outputs": []
  },
  {
   "cell_type": "code",
   "source": [
    "mapa_rio = folium.Map(location = [-22, -43],\n",
    "                      zoom_start = 8)\n",
    "\n",
    "mapa_rio"
   ],
   "metadata": {
    "colab": {
     "base_uri": "https://localhost:8080/",
     "height": 712
    },
    "id": "yHg_ADwyW1jG",
    "executionInfo": {
     "status": "ok",
     "timestamp": 1686849579716,
     "user_tz": 180,
     "elapsed": 7,
     "user": {
      "displayName": "Joao Miranda",
      "userId": "01467276596263397217"
     }
    },
    "outputId": "e199168f-68d9-489b-8033-e01aa3bda84a"
   },
   "execution_count": null,
   "outputs": []
  },
  {
   "cell_type": "markdown",
   "metadata": {
    "id": "7-c-gEwaZcCB"
   },
   "source": [
    "O folium permite a utilização de diferentes tipos de representação de mapas:\n",
    "\n",
    "- OpenStreetMap\n",
    "\n",
    "- Mapbox Bright\n",
    "\n",
    "- Mapbox Control Room\n",
    "\n",
    "- Stamen (Terrain, Toner, e Watercolor)\n",
    "\n",
    "- Cloudmade\n",
    "\n",
    "- Mapbox\n",
    "\n",
    "- CartoDB (positron e dark_matter)\n",
    "\n",
    "Além disso, é possível usar uma representação customizada a partir de uma url do tipo: http://{s}.yourtiles.com/{z}/{x}/{y}.png.\n",
    "\n",
    "A lista completa pode de representações personalizadas pode ser encontrada no link: http://leaflet-extras.github.io/leaflet-providers/preview/."
   ]
  },
  {
   "cell_type": "code",
   "source": [
    "mapa_rio = folium.Map(location = [-22, -43],\n",
    "                      zoom_start = 8,\n",
    "                      tiles = 'stamenterrain')\n",
    "\n",
    "mapa_rio"
   ],
   "metadata": {
    "colab": {
     "base_uri": "https://localhost:8080/",
     "height": 712
    },
    "id": "wEtrOzkoW66H",
    "executionInfo": {
     "status": "ok",
     "timestamp": 1686849579716,
     "user_tz": 180,
     "elapsed": 6,
     "user": {
      "displayName": "Joao Miranda",
      "userId": "01467276596263397217"
     }
    },
    "outputId": "614bfdf6-f091-42f1-cf32-0beaae5d62cc"
   },
   "execution_count": null,
   "outputs": []
  },
  {
   "cell_type": "code",
   "source": [
    "mapa_rio = folium.Map(location = [-22, -43],\n",
    "                      zoom_start = 8,\n",
    "                      tiles = 'stamenterrain',\n",
    "                      name = 'Stamen')\n",
    "\n",
    "folium.TileLayer('cartodbpositron', name = 'Positron').add_to(mapa_rio)\n",
    "folium.TileLayer('cartodbdark_matter', name = 'Dark').add_to(mapa_rio)\n",
    "folium.TileLayer('https://{s}.tile-cyclosm.openstreetmap.fr/cyclosm/{z}/{x}/{y}.png', name = 'OSM',\n",
    "                 attr = '<a href=\"https://github.com/cyclosm/cyclosm-cartocss-style/releases\" title=\"CyclOSM - Open Bicycle render\">CyclOSM</a> | Map data: &copy; <a href=\"https://www.openstreetmap.org/copyright\">OpenStreetMap</a> contributors').add_to(mapa_rio)\n",
    "\n",
    "folium.LayerControl().add_to(mapa_rio)\n",
    "\n",
    "mapa_rio.save('mapa_rio.html')\n",
    "\n",
    "mapa_rio"
   ],
   "metadata": {
    "colab": {
     "base_uri": "https://localhost:8080/",
     "height": 712
    },
    "id": "ZqeLYn1OW8TW",
    "executionInfo": {
     "status": "ok",
     "timestamp": 1686849579716,
     "user_tz": 180,
     "elapsed": 5,
     "user": {
      "displayName": "Joao Miranda",
      "userId": "01467276596263397217"
     }
    },
    "outputId": "290c4e27-b018-481c-96e5-d39efcc0c486"
   },
   "execution_count": null,
   "outputs": []
  },
  {
   "cell_type": "code",
   "source": [
    "bairros_rio = cidade_rio.dissolve(by = 'NM_BAIRRO')\n",
    "bairros_rio"
   ],
   "metadata": {
    "colab": {
     "base_uri": "https://localhost:8080/",
     "height": 1000
    },
    "id": "gGuKSqTJbLAv",
    "executionInfo": {
     "status": "ok",
     "timestamp": 1686849581930,
     "user_tz": 180,
     "elapsed": 2219,
     "user": {
      "displayName": "Joao Miranda",
      "userId": "01467276596263397217"
     }
    },
    "outputId": "5ee8f12a-c7d6-44c7-af89-274b73744a66"
   },
   "execution_count": null,
   "outputs": []
  },
  {
   "cell_type": "code",
   "source": [
    "mapa_rio = folium.Map(location = [-22, -43],\n",
    "                      zoom_start = 8,\n",
    "                      tiles = 'cartodbpositron')\n",
    "\n",
    "folium.GeoJson(bairros_rio).add_to(mapa_rio)\n",
    "\n",
    "mapa_rio"
   ],
   "metadata": {
    "colab": {
     "base_uri": "https://localhost:8080/",
     "height": 712,
     "output_embedded_package_id": "14r11tADT_ngXDVEfg_ohpparWrtaeGrQ"
    },
    "id": "2Z_nSQ9NdQ55",
    "executionInfo": {
     "status": "ok",
     "timestamp": 1686849584977,
     "user_tz": 180,
     "elapsed": 3050,
     "user": {
      "displayName": "Joao Miranda",
      "userId": "01467276596263397217"
     }
    },
    "outputId": "03435a76-0735-44f6-db37-f857e7a350c8"
   },
   "execution_count": null,
   "outputs": []
  },
  {
   "cell_type": "code",
   "source": [
    "cidade = cidade_rio.dissolve(by = 'NM_MUNICIP')\n",
    "cidade"
   ],
   "metadata": {
    "colab": {
     "base_uri": "https://localhost:8080/",
     "height": 228
    },
    "id": "XgsXMD82bKz8",
    "executionInfo": {
     "status": "ok",
     "timestamp": 1686849587037,
     "user_tz": 180,
     "elapsed": 2062,
     "user": {
      "displayName": "Joao Miranda",
      "userId": "01467276596263397217"
     }
    },
    "outputId": "acdda188-40b9-43f7-d81c-ff7b6229903a"
   },
   "execution_count": null,
   "outputs": []
  },
  {
   "cell_type": "code",
   "source": [
    "mapa_rio = folium.Map(location = [-22, -43],\n",
    "                      zoom_start = 8,\n",
    "                      tiles = 'cartodbpositron')\n",
    "\n",
    "folium.GeoJson(cidade).add_to(mapa_rio)\n",
    "\n",
    "mapa_rio"
   ],
   "metadata": {
    "colab": {
     "base_uri": "https://localhost:8080/",
     "height": 712
    },
    "id": "6E8qe8EqbKoj",
    "executionInfo": {
     "status": "ok",
     "timestamp": 1686849588047,
     "user_tz": 180,
     "elapsed": 1013,
     "user": {
      "displayName": "Joao Miranda",
      "userId": "01467276596263397217"
     }
    },
    "outputId": "ca22148c-7937-4389-d79c-adf3c9426555"
   },
   "execution_count": null,
   "outputs": []
  },
  {
   "cell_type": "markdown",
   "metadata": {
    "id": "dVnuUObY-vBx"
   },
   "source": [
    "### Analisando os dados dos imóveis"
   ]
  },
  {
   "cell_type": "code",
   "source": [
    "import pandas as pd"
   ],
   "metadata": {
    "id": "hJl6Igvagm5u",
    "executionInfo": {
     "status": "ok",
     "timestamp": 1686849588048,
     "user_tz": 180,
     "elapsed": 8,
     "user": {
      "displayName": "Joao Miranda",
      "userId": "01467276596263397217"
     }
    }
   },
   "execution_count": null,
   "outputs": []
  },
  {
   "cell_type": "code",
   "source": [
    "imoveis = pd.read_csv('rj_setores_censitarios/dados_imoveis.csv', sep = '\\t')\n",
    "imoveis"
   ],
   "metadata": {
    "colab": {
     "base_uri": "https://localhost:8080/",
     "height": 641
    },
    "id": "BHKQxlTMg3k1",
    "executionInfo": {
     "status": "ok",
     "timestamp": 1686849588048,
     "user_tz": 180,
     "elapsed": 7,
     "user": {
      "displayName": "Joao Miranda",
      "userId": "01467276596263397217"
     }
    },
    "outputId": "b333ae06-7787-4ce4-a0eb-cc5263c353f6"
   },
   "execution_count": null,
   "outputs": []
  },
  {
   "cell_type": "code",
   "source": [
    "imoveis = gpd.GeoDataFrame(imoveis, geometry = gpd.points_from_xy(imoveis['Longitude'], imoveis['Latitude']))\n",
    "imoveis"
   ],
   "metadata": {
    "colab": {
     "base_uri": "https://localhost:8080/",
     "height": 814
    },
    "id": "5h8Tupwsg4vN",
    "executionInfo": {
     "status": "ok",
     "timestamp": 1686849588048,
     "user_tz": 180,
     "elapsed": 6,
     "user": {
      "displayName": "Joao Miranda",
      "userId": "01467276596263397217"
     }
    },
    "outputId": "060ce69d-9b9a-4e76-c96f-1cc73324f3d7"
   },
   "execution_count": null,
   "outputs": []
  },
  {
   "cell_type": "code",
   "source": [
    "base = cidade.plot()\n",
    "imoveis.plot(ax = base, alpha = 0.2);"
   ],
   "metadata": {
    "colab": {
     "base_uri": "https://localhost:8080/",
     "height": 430
    },
    "id": "M6jdOa_ug5x8",
    "executionInfo": {
     "status": "ok",
     "timestamp": 1686849588569,
     "user_tz": 180,
     "elapsed": 526,
     "user": {
      "displayName": "Joao Miranda",
      "userId": "01467276596263397217"
     }
    },
    "outputId": "0ed53fe8-cd30-48a0-e5d9-639accaf25c0"
   },
   "execution_count": null,
   "outputs": []
  },
  {
   "cell_type": "code",
   "source": [
    "cidade['geometry'].iloc[0]"
   ],
   "metadata": {
    "colab": {
     "base_uri": "https://localhost:8080/",
     "height": 121
    },
    "id": "4v29ToUXg6ju",
    "executionInfo": {
     "status": "ok",
     "timestamp": 1686849589576,
     "user_tz": 180,
     "elapsed": 1011,
     "user": {
      "displayName": "Joao Miranda",
      "userId": "01467276596263397217"
     }
    },
    "outputId": "daaf6cb2-9eae-479e-e30a-cbe24cc3c019"
   },
   "execution_count": null,
   "outputs": []
  },
  {
   "cell_type": "code",
   "source": [
    "imoveis['geometry'].within(cidade['geometry'].iloc[0])"
   ],
   "metadata": {
    "colab": {
     "base_uri": "https://localhost:8080/"
    },
    "id": "5EhhjNhkg7HN",
    "executionInfo": {
     "status": "ok",
     "timestamp": 1686849651801,
     "user_tz": 180,
     "elapsed": 62228,
     "user": {
      "displayName": "Joao Miranda",
      "userId": "01467276596263397217"
     }
    },
    "outputId": "e0e2a19f-dadd-47aa-cf0a-ff57ec4f2b15"
   },
   "execution_count": null,
   "outputs": []
  },
  {
   "cell_type": "code",
   "source": [
    "imoveis = imoveis[imoveis['geometry'].within(cidade['geometry'].iloc[0])]"
   ],
   "metadata": {
    "id": "DmA0IMfpg73e",
    "executionInfo": {
     "status": "ok",
     "timestamp": 1686849713528,
     "user_tz": 180,
     "elapsed": 61737,
     "user": {
      "displayName": "Joao Miranda",
      "userId": "01467276596263397217"
     }
    }
   },
   "execution_count": null,
   "outputs": []
  },
  {
   "cell_type": "code",
   "source": [
    "base = cidade.plot(color = 'white', edgecolor = 'black', figsize = (15,8))\n",
    "imoveis.plot(ax = base, alpha = 0.2)"
   ],
   "metadata": {
    "colab": {
     "base_uri": "https://localhost:8080/",
     "height": 598
    },
    "id": "ITSHNaNfg8tV",
    "executionInfo": {
     "status": "ok",
     "timestamp": 1686849714974,
     "user_tz": 180,
     "elapsed": 1450,
     "user": {
      "displayName": "Joao Miranda",
      "userId": "01467276596263397217"
     }
    },
    "outputId": "0453bb7f-3e75-4c03-9af3-bb955e027d90"
   },
   "execution_count": null,
   "outputs": []
  },
  {
   "cell_type": "code",
   "source": [
    "from folium.plugins import HeatMap"
   ],
   "metadata": {
    "id": "Crhkr2BslXrZ",
    "executionInfo": {
     "status": "ok",
     "timestamp": 1686849714974,
     "user_tz": 180,
     "elapsed": 9,
     "user": {
      "displayName": "Joao Miranda",
      "userId": "01467276596263397217"
     }
    }
   },
   "execution_count": null,
   "outputs": []
  },
  {
   "cell_type": "code",
   "source": [
    "mapa_rio = folium.Map(location = [imoveis['Latitude'].mean(), imoveis['Longitude'].mean()],\n",
    "                      zoom_start = 10,\n",
    "                      tiles = 'cartodbpositron')\n",
    "\n",
    "HeatMap(data = imoveis[['Latitude', 'Longitude']]).add_to(mapa_rio)\n",
    "\n",
    "mapa_rio"
   ],
   "metadata": {
    "colab": {
     "base_uri": "https://localhost:8080/",
     "height": 712
    },
    "id": "nTaO5Wz4lYNB",
    "executionInfo": {
     "status": "ok",
     "timestamp": 1686849714974,
     "user_tz": 180,
     "elapsed": 8,
     "user": {
      "displayName": "Joao Miranda",
      "userId": "01467276596263397217"
     }
    },
    "outputId": "bbbd08da-c189-4b61-8d8d-2b7664b02825"
   },
   "execution_count": null,
   "outputs": []
  },
  {
   "cell_type": "code",
   "source": [
    "mapa_rio = folium.Map(location = [imoveis['Latitude'].mean(), imoveis['Longitude'].mean()],\n",
    "                      zoom_start = 10,\n",
    "                      tiles = 'cartodbpositron')\n",
    "\n",
    "HeatMap(data = imoveis[['Latitude', 'Longitude']], name = 'Mapa de Calor').add_to(mapa_rio)\n",
    "folium.GeoJson(cidade, name = 'Rio de Janeiro').add_to(mapa_rio)\n",
    "\n",
    "folium.LayerControl().add_to(mapa_rio)\n",
    "\n",
    "mapa_rio"
   ],
   "metadata": {
    "colab": {
     "base_uri": "https://localhost:8080/",
     "height": 712
    },
    "id": "CPnQeBR8lZiJ",
    "executionInfo": {
     "status": "ok",
     "timestamp": 1686849716003,
     "user_tz": 180,
     "elapsed": 1033,
     "user": {
      "displayName": "Joao Miranda",
      "userId": "01467276596263397217"
     }
    },
    "outputId": "216afba3-07a8-475d-d28f-264a2921d628"
   },
   "execution_count": null,
   "outputs": []
  },
  {
   "cell_type": "code",
   "source": [
    "mapa_rio = folium.Map(location = [imoveis['Latitude'].mean(), imoveis['Longitude'].mean()],\n",
    "                      zoom_start = 10,\n",
    "                      tiles = 'cartodbdark_matter')\n",
    "\n",
    "estilo = {'fillOpacity':0 ,'color' : '#ffffff', 'weight': 0.5}\n",
    "\n",
    "HeatMap(data = imoveis[['Latitude', 'Longitude']], name = 'Mapa de Calor', radius = 20).add_to(mapa_rio)\n",
    "folium.GeoJson(cidade, name = 'Rio de Janeiro', style_function= lambda x: estilo).add_to(mapa_rio)\n",
    "\n",
    "folium.LayerControl().add_to(mapa_rio)\n",
    "\n",
    "mapa_rio"
   ],
   "metadata": {
    "colab": {
     "base_uri": "https://localhost:8080/",
     "height": 712
    },
    "id": "3MyuET6Foa4_",
    "executionInfo": {
     "status": "ok",
     "timestamp": 1686849717106,
     "user_tz": 180,
     "elapsed": 1107,
     "user": {
      "displayName": "Joao Miranda",
      "userId": "01467276596263397217"
     }
    },
    "outputId": "acaa0a9d-7e7e-479d-fc1e-1992b5b6e082"
   },
   "execution_count": null,
   "outputs": []
  },
  {
   "cell_type": "code",
   "source": [
    "mapa_rio = folium.Map(location = [imoveis['Latitude'].mean(), imoveis['Longitude'].mean()],\n",
    "                      zoom_start = 10,\n",
    "                      tiles = 'cartodbdark_matter',\n",
    "                      name = 'Dark')\n",
    "\n",
    "estilo = {'fillOpacity':0 ,'color' : '#ffffff', 'weight': 0.5}\n",
    "\n",
    "HeatMap(data = imoveis[['Latitude', 'Longitude']], name = 'Mapa de Calor', radius = 20).add_to(mapa_rio)\n",
    "folium.GeoJson(bairros_rio, name = 'Rio de Janeiro', style_function= lambda x: estilo).add_to(mapa_rio)\n",
    "\n",
    "estilo_borda_preta = {'fillOpacity':0 ,'color' : '#000000', 'weight': 0.5}\n",
    "\n",
    "HeatMap(data = imoveis[['Latitude', 'Longitude']], name = 'Mapa de Calor (vemelho)', radius = 20, gradient = {0:'grey', 1:'red'}, show = False).add_to(mapa_rio)\n",
    "folium.GeoJson(bairros_rio, name = 'Rio de Janeiro (borda preta)', style_function= lambda x: estilo_borda_preta, show = False).add_to(mapa_rio)\n",
    "\n",
    "folium.TileLayer('cartodbpositron', name = 'Positron').add_to(mapa_rio)\n",
    "\n",
    "folium.LayerControl().add_to(mapa_rio)\n",
    "\n",
    "mapa_rio"
   ],
   "metadata": {
    "colab": {
     "base_uri": "https://localhost:8080/",
     "height": 712,
     "output_embedded_package_id": "1DeZuUbSk7xmo7mawhUZ6Z7vN1uXmXGsh"
    },
    "id": "pzfyPT7toawv",
    "executionInfo": {
     "status": "ok",
     "timestamp": 1686849723799,
     "user_tz": 180,
     "elapsed": 6697,
     "user": {
      "displayName": "Joao Miranda",
      "userId": "01467276596263397217"
     }
    },
    "outputId": "c90d6081-f063-48f2-8a65-36208efbcd07"
   },
   "execution_count": null,
   "outputs": []
  },
  {
   "cell_type": "code",
   "source": [
    "bairros_rio"
   ],
   "metadata": {
    "colab": {
     "base_uri": "https://localhost:8080/",
     "height": 1000
    },
    "id": "7NIdFxHXtjcD",
    "executionInfo": {
     "status": "ok",
     "timestamp": 1686849723799,
     "user_tz": 180,
     "elapsed": 16,
     "user": {
      "displayName": "Joao Miranda",
      "userId": "01467276596263397217"
     }
    },
    "outputId": "60f41265-1b1b-4148-dce9-001040ef868d"
   },
   "execution_count": null,
   "outputs": []
  },
  {
   "cell_type": "code",
   "source": [
    "bairros_rio.crs"
   ],
   "metadata": {
    "colab": {
     "base_uri": "https://localhost:8080/"
    },
    "id": "Vkx32HShtjWG",
    "executionInfo": {
     "status": "ok",
     "timestamp": 1686849723799,
     "user_tz": 180,
     "elapsed": 14,
     "user": {
      "displayName": "Joao Miranda",
      "userId": "01467276596263397217"
     }
    },
    "outputId": "81a95689-a78a-4d2b-f2b5-2b760e64811b"
   },
   "execution_count": null,
   "outputs": []
  },
  {
   "cell_type": "code",
   "source": [
    "mapa_rio = folium.Map(location = [imoveis['Latitude'].mean(), imoveis['Longitude'].mean()],\n",
    "                      zoom_start = 10,\n",
    "                      tiles = 'cartodbdark_matter')\n",
    "\n",
    "estilo = {'fillOpacity':0 ,'color' : '#ffffff', 'weight': 0.5}\n",
    "\n",
    "HeatMap(data = imoveis[['Latitude', 'Longitude']], name = 'Mapa de Calor', radius = 20).add_to(mapa_rio)\n",
    "\n",
    "for indice, linha in bairros_rio.iterrows():\n",
    "    bairro = gpd.GeoDataFrame(pd.DataFrame(linha).T, geometry= 'geometry', crs = 'EPSG:4674')\n",
    "    folium.GeoJson(bairro, name = bairro.index[0], style_function= lambda x: estilo, tooltip = bairro.index[0]).add_to(mapa_rio)\n",
    "\n",
    "folium.LayerControl().add_to(mapa_rio)\n",
    "\n",
    "mapa_rio.save('mapa_calor_rio.html')\n",
    "\n",
    "mapa_rio"
   ],
   "metadata": {
    "colab": {
     "base_uri": "https://localhost:8080/",
     "height": 712,
     "output_embedded_package_id": "1bKVG6sXJJHAhgi7EKpakm0XqpPkOvcUP"
    },
    "id": "OuCWIkA7tjOC",
    "executionInfo": {
     "status": "ok",
     "timestamp": 1686849728121,
     "user_tz": 180,
     "elapsed": 4334,
     "user": {
      "displayName": "Joao Miranda",
      "userId": "01467276596263397217"
     }
    },
    "outputId": "f47e9c30-4532-41a1-f53b-ac164c932a0a"
   },
   "execution_count": null,
   "outputs": []
  },
  {
   "cell_type": "markdown",
   "source": [
    "### Análise detalhada"
   ],
   "metadata": {
    "id": "Nea63ET3y6jV"
   }
  },
  {
   "cell_type": "code",
   "source": [
    "mapa_rio = folium.Map(location = [imoveis['Latitude'].mean(), imoveis['Longitude'].mean()],\n",
    "                      zoom_start = 10,\n",
    "                      tiles = 'cartodbpositron')\n",
    "\n",
    "folium.GeoJson(cidade, name = 'Rio de Janeiro').add_to(mapa_rio)\n",
    "\n",
    "amostra_imoveis = imoveis.sample(500)\n",
    "\n",
    "amostra_imoveis.apply(\n",
    "    lambda linha: folium.Marker(\n",
    "        location = [linha['Latitude'],\n",
    "                    linha['Longitude']]\n",
    "    ).add_to(mapa_rio), axis = 1\n",
    ")\n",
    "\n",
    "folium.LayerControl().add_to(mapa_rio)\n",
    "\n",
    "mapa_rio"
   ],
   "metadata": {
    "colab": {
     "base_uri": "https://localhost:8080/",
     "height": 712
    },
    "id": "vG-d9Fgey91z",
    "executionInfo": {
     "status": "ok",
     "timestamp": 1686849728122,
     "user_tz": 180,
     "elapsed": 16,
     "user": {
      "displayName": "Joao Miranda",
      "userId": "01467276596263397217"
     }
    },
    "outputId": "b6b287d4-28fb-4893-f3a5-6c291a26f6b2"
   },
   "execution_count": null,
   "outputs": []
  },
  {
   "cell_type": "code",
   "source": [
    "mapa_rio = folium.Map(location = [imoveis['Latitude'].mean(), imoveis['Longitude'].mean()],\n",
    "                      zoom_start = 10,\n",
    "                      tiles = 'cartodbpositron')\n",
    "\n",
    "folium.GeoJson(cidade, name = 'Rio de Janeiro').add_to(mapa_rio)\n",
    "\n",
    "amostra_imoveis = imoveis.sample(500)\n",
    "\n",
    "amostra_imoveis.apply(\n",
    "    lambda linha: folium.Marker(\n",
    "        location = [linha['Latitude'],\n",
    "                    linha['Longitude']],\n",
    "        icon = folium.Icon(color = 'red')\n",
    "    ).add_to(mapa_rio), axis = 1\n",
    ")\n",
    "\n",
    "folium.LayerControl().add_to(mapa_rio)\n",
    "\n",
    "mapa_rio"
   ],
   "metadata": {
    "colab": {
     "base_uri": "https://localhost:8080/",
     "height": 712
    },
    "id": "Ii6q04YozAO-",
    "executionInfo": {
     "status": "ok",
     "timestamp": 1686849728122,
     "user_tz": 180,
     "elapsed": 12,
     "user": {
      "displayName": "Joao Miranda",
      "userId": "01467276596263397217"
     }
    },
    "outputId": "35f71181-6a94-4037-853d-532870ac19d3"
   },
   "execution_count": null,
   "outputs": []
  },
  {
   "cell_type": "code",
   "source": [
    "imoveis.describe()"
   ],
   "metadata": {
    "colab": {
     "base_uri": "https://localhost:8080/",
     "height": 300
    },
    "id": "DoeaSdmW3fHe",
    "executionInfo": {
     "status": "ok",
     "timestamp": 1686849728122,
     "user_tz": 180,
     "elapsed": 8,
     "user": {
      "displayName": "Joao Miranda",
      "userId": "01467276596263397217"
     }
    },
    "outputId": "64b2e770-3264-4922-f193-59a7374c99fa"
   },
   "execution_count": null,
   "outputs": []
  },
  {
   "cell_type": "code",
   "source": [
    "imoveis.insert(0, 'cor', pd.qcut(imoveis['Valor'], q = [0, 0.5, 0.75, 1], labels = ['green', 'orange', 'red']))"
   ],
   "metadata": {
    "id": "_CgqZHa-3fBp",
    "executionInfo": {
     "status": "ok",
     "timestamp": 1686849728122,
     "user_tz": 180,
     "elapsed": 7,
     "user": {
      "displayName": "Joao Miranda",
      "userId": "01467276596263397217"
     }
    }
   },
   "execution_count": null,
   "outputs": []
  },
  {
   "cell_type": "code",
   "source": [
    "mapa_rio = folium.Map(location = [imoveis['Latitude'].mean(), imoveis['Longitude'].mean()],\n",
    "                      zoom_start = 10,\n",
    "                      tiles = 'cartodbpositron')\n",
    "\n",
    "folium.GeoJson(cidade, name = 'Rio de Janeiro').add_to(mapa_rio)\n",
    "\n",
    "amostra_imoveis = imoveis.sample(500)\n",
    "\n",
    "amostra_imoveis.apply(\n",
    "    lambda linha: folium.Marker(\n",
    "        location = [linha['Latitude'],\n",
    "                    linha['Longitude']],\n",
    "        icon = folium.Icon(color = linha['cor'], icon = 'fa-home', prefix = 'fa')\n",
    "    ).add_to(mapa_rio), axis = 1\n",
    ")\n",
    "\n",
    "folium.LayerControl().add_to(mapa_rio)\n",
    "\n",
    "mapa_rio"
   ],
   "metadata": {
    "colab": {
     "base_uri": "https://localhost:8080/",
     "height": 712
    },
    "id": "tsO9J1gs3e6Z",
    "executionInfo": {
     "status": "ok",
     "timestamp": 1686849728786,
     "user_tz": 180,
     "elapsed": 671,
     "user": {
      "displayName": "Joao Miranda",
      "userId": "01467276596263397217"
     }
    },
    "outputId": "4883f43c-0c6e-4b00-8513-e7e200be31cb"
   },
   "execution_count": null,
   "outputs": []
  },
  {
   "cell_type": "code",
   "source": [
    "mapa_rio = folium.Map(location = [imoveis['Latitude'].mean(), imoveis['Longitude'].mean()],\n",
    "                      zoom_start = 10,\n",
    "                      tiles = 'cartodbpositron')\n",
    "\n",
    "estilo = {'fillOpacity':0 ,'color' : '#000000', 'weight': 0.5}\n",
    "\n",
    "for indice, linha in bairros_rio.iterrows():\n",
    "    bairro = gpd.GeoDataFrame(pd.DataFrame(linha).T, geometry= 'geometry', crs = 'EPSG:4674')\n",
    "    folium.GeoJson(bairro, name = bairro.index[0], style_function= lambda x: estilo, tooltip = bairro.index[0]).add_to(mapa_rio)\n",
    "\n",
    "amostra_imoveis = imoveis.sample(500)\n",
    "\n",
    "amostra_imoveis.apply(\n",
    "    lambda linha: folium.Marker(\n",
    "        location = [linha['Latitude'],\n",
    "                    linha['Longitude']],\n",
    "        icon = folium.Icon(color = linha['cor'], icon = 'fa-home', prefix = 'fa')\n",
    "    ).add_to(mapa_rio), axis = 1\n",
    ")\n",
    "\n",
    "folium.LayerControl().add_to(mapa_rio)\n",
    "\n",
    "mapa_rio"
   ],
   "metadata": {
    "colab": {
     "base_uri": "https://localhost:8080/",
     "height": 712,
     "output_embedded_package_id": "1tHpjRaZwWRqnVJ9pOjY7eNJZ-R8gP1oL"
    },
    "id": "x2rn9Gqk3eyI",
    "executionInfo": {
     "status": "ok",
     "timestamp": 1686849738982,
     "user_tz": 180,
     "elapsed": 10199,
     "user": {
      "displayName": "Joao Miranda",
      "userId": "01467276596263397217"
     }
    },
    "outputId": "a581f20c-685c-415f-cb72-ccec322b35f1"
   },
   "execution_count": null,
   "outputs": []
  },
  {
   "cell_type": "code",
   "source": [
    "mapa_rio = folium.Map(location = [imoveis['Latitude'].mean(), imoveis['Longitude'].mean()],\n",
    "                      zoom_start = 10,\n",
    "                      tiles = 'cartodbpositron')\n",
    "\n",
    "estilo = {'fillOpacity':0 ,'color' : '#000000', 'weight': 0.5}\n",
    "\n",
    "for indice, linha in bairros_rio.iterrows():\n",
    "    bairro = gpd.GeoDataFrame(pd.DataFrame(linha).T, geometry= 'geometry', crs = 'EPSG:4674')\n",
    "    folium.GeoJson(bairro, name = bairro.index[0], style_function= lambda x: estilo, tooltip = bairro.index[0]).add_to(mapa_rio)\n",
    "\n",
    "amostra_imoveis = imoveis.sample(500)\n",
    "\n",
    "amostra_imoveis.apply(\n",
    "    lambda linha: folium.Marker(\n",
    "        location = [linha['Latitude'],\n",
    "                    linha['Longitude']],\n",
    "        icon = folium.Icon(color = linha['cor'], icon = 'fa-home', prefix = 'fa'),\n",
    "        popup = f'Área: {linha[\"Area\"]} m², Valor: R$ {linha[\"Valor\"]}'\n",
    "    ).add_to(mapa_rio), axis = 1\n",
    ")\n",
    "\n",
    "folium.LayerControl().add_to(mapa_rio)\n",
    "\n",
    "mapa_rio"
   ],
   "metadata": {
    "colab": {
     "base_uri": "https://localhost:8080/",
     "height": 712,
     "output_embedded_package_id": "16uNPtscPMFL_5PHv5XbEpP_EZ3u6SFQ6"
    },
    "id": "N97Y0V1N66XV",
    "executionInfo": {
     "status": "ok",
     "timestamp": 1686849742802,
     "user_tz": 180,
     "elapsed": 3823,
     "user": {
      "displayName": "Joao Miranda",
      "userId": "01467276596263397217"
     }
    },
    "outputId": "0e50cdd7-dd19-4e67-f291-78c68b082584"
   },
   "execution_count": null,
   "outputs": []
  },
  {
   "cell_type": "code",
   "source": [
    "mapa_rio = folium.Map(location = [imoveis['Latitude'].mean(), imoveis['Longitude'].mean()],\n",
    "                      zoom_start = 10,\n",
    "                      tiles = 'cartodbpositron')\n",
    "\n",
    "estilo = {'fillOpacity':0 ,'color' : '#000000', 'weight': 0.5}\n",
    "\n",
    "for indice, linha in bairros_rio.iterrows():\n",
    "    bairro = gpd.GeoDataFrame(pd.DataFrame(linha).T, geometry= 'geometry', crs = 'EPSG:4674')\n",
    "    folium.GeoJson(bairro, name = bairro.index[0], style_function= lambda x: estilo, tooltip = bairro.index[0]).add_to(mapa_rio)\n",
    "\n",
    "amostra_imoveis = imoveis.sample(500)\n",
    "\n",
    "amostra_imoveis.apply(\n",
    "    lambda linha: folium.Marker(\n",
    "        location = [linha['Latitude'],\n",
    "                    linha['Longitude']],\n",
    "        icon = folium.Icon(color = linha['cor'], icon = 'fa-home', prefix = 'fa'),\n",
    "        popup = folium.Popup(f'''<b>Bairro</b>: {linha[\"Bairro\"]}<br>\n",
    "                                <b>Área</b>: {linha[\"Area\"]} m²<br>\n",
    "                                <b>Valor</b>: R$ {linha[\"Valor\"]},00<br>\n",
    "                                <b>Quartos</b>: {linha[\"Quartos\"]}\n",
    "                            ''',\n",
    "                             max_width = 200,\n",
    "                             sticky = True)\n",
    "    ).add_to(mapa_rio), axis = 1\n",
    ")\n",
    "\n",
    "folium.LayerControl().add_to(mapa_rio)\n",
    "\n",
    "mapa_rio"
   ],
   "metadata": {
    "colab": {
     "base_uri": "https://localhost:8080/",
     "height": 712,
     "output_embedded_package_id": "1RehbIYP1VmiQ1x8D8GzSdFbMbPLmxL63"
    },
    "id": "yUVdAJqa66P1",
    "executionInfo": {
     "status": "ok",
     "timestamp": 1686849747611,
     "user_tz": 180,
     "elapsed": 4811,
     "user": {
      "displayName": "Joao Miranda",
      "userId": "01467276596263397217"
     }
    },
    "outputId": "d0cc515b-e401-41d2-af95-f071d8e9bd21"
   },
   "execution_count": null,
   "outputs": []
  },
  {
   "cell_type": "code",
   "source": [
    "from folium.plugins import FastMarkerCluster"
   ],
   "metadata": {
    "id": "CozJPoR6-uFa",
    "executionInfo": {
     "status": "ok",
     "timestamp": 1686849747612,
     "user_tz": 180,
     "elapsed": 3,
     "user": {
      "displayName": "Joao Miranda",
      "userId": "01467276596263397217"
     }
    }
   },
   "execution_count": null,
   "outputs": []
  },
  {
   "cell_type": "code",
   "source": [
    "mapa_rio = folium.Map(location = [imoveis['Latitude'].mean(), imoveis['Longitude'].mean()],\n",
    "                      zoom_start = 10,\n",
    "                      tiles = 'cartodbpositron')\n",
    "\n",
    "estilo = {'fillOpacity':0 ,'color' : '#000000', 'weight': 0.5}\n",
    "\n",
    "for indice, linha in bairros_rio.iterrows():\n",
    "    bairro = gpd.GeoDataFrame(pd.DataFrame(linha).T, geometry= 'geometry', crs = 'EPSG:4674')\n",
    "    folium.GeoJson(bairro, name = bairro.index[0], style_function= lambda x: estilo, tooltip = bairro.index[0]).add_to(mapa_rio)\n",
    "\n",
    "cluster = FastMarkerCluster(imoveis[['Latitude', 'Longitude']])\n",
    "\n",
    "cluster.add_to(mapa_rio)\n",
    "\n",
    "folium.LayerControl().add_to(mapa_rio)\n",
    "\n",
    "mapa_rio"
   ],
   "metadata": {
    "colab": {
     "base_uri": "https://localhost:8080/",
     "height": 712,
     "output_embedded_package_id": "1N6Ow13zLXGxkeu1SUIhZ6fPQDpnYAqEu"
    },
    "id": "u-lW3WjZ9klx",
    "executionInfo": {
     "status": "ok",
     "timestamp": 1686849753142,
     "user_tz": 180,
     "elapsed": 5532,
     "user": {
      "displayName": "Joao Miranda",
      "userId": "01467276596263397217"
     }
    },
    "outputId": "bc032c5b-48b6-44eb-9b8f-b7490ad1b33f"
   },
   "execution_count": null,
   "outputs": []
  },
  {
   "cell_type": "code",
   "source": [
    "from folium.plugins import MarkerCluster"
   ],
   "metadata": {
    "id": "akmwJy7s9kd7",
    "executionInfo": {
     "status": "ok",
     "timestamp": 1686849753143,
     "user_tz": 180,
     "elapsed": 16,
     "user": {
      "displayName": "Joao Miranda",
      "userId": "01467276596263397217"
     }
    }
   },
   "execution_count": null,
   "outputs": []
  },
  {
   "cell_type": "code",
   "source": [
    "mapa_rio = folium.Map(location = [imoveis['Latitude'].mean(), imoveis['Longitude'].mean()],\n",
    "                      zoom_start = 10,\n",
    "                      tiles = 'cartodbpositron')\n",
    "\n",
    "estilo = {'fillOpacity':0 ,'color' : '#000000', 'weight': 0.5}\n",
    "\n",
    "for indice, linha in bairros_rio.iterrows():\n",
    "    bairro = gpd.GeoDataFrame(pd.DataFrame(linha).T, geometry= 'geometry', crs = 'EPSG:4674')\n",
    "    folium.GeoJson(bairro, name = bairro.index[0], style_function= lambda x: estilo, tooltip = bairro.index[0]).add_to(mapa_rio)\n",
    "\n",
    "cluster = MarkerCluster()\n",
    "\n",
    "imoveis.apply(\n",
    "    lambda linha: folium.Marker(\n",
    "        location = [linha['Latitude'],\n",
    "                    linha['Longitude']],\n",
    "        icon = folium.Icon(color = linha['cor'], icon = 'fa-home', prefix = 'fa'),\n",
    "        popup = folium.Popup(f'''<b>Bairro</b>: {linha[\"Bairro\"]}<br>\n",
    "                                <b>Área</b>: {linha[\"Area\"]} m²<br>\n",
    "                                <b>Valor</b>: R$ {linha[\"Valor\"]},00<br>\n",
    "                                <b>Quartos</b>: {linha[\"Quartos\"]}\n",
    "                            ''',\n",
    "                             max_width = 200,\n",
    "                             sticky = True)\n",
    "    ).add_to(cluster), axis = 1\n",
    ")\n",
    "\n",
    "cluster.add_to(mapa_rio)\n",
    "\n",
    "folium.LayerControl().add_to(mapa_rio)\n",
    "\n",
    "mapa_rio"
   ],
   "metadata": {
    "colab": {
     "base_uri": "https://localhost:8080/",
     "height": 712,
     "output_embedded_package_id": "1mKc8yEI6rK8bN-VaZZdtUjEJOa-D9SVG"
    },
    "id": "nn-3Gw7h9kWk",
    "executionInfo": {
     "status": "ok",
     "timestamp": 1686849771757,
     "user_tz": 180,
     "elapsed": 18629,
     "user": {
      "displayName": "Joao Miranda",
      "userId": "01467276596263397217"
     }
    },
    "outputId": "94751daf-86fa-45a8-e5be-f343d377398c"
   },
   "execution_count": null,
   "outputs": []
  },
  {
   "cell_type": "code",
   "source": [
    "bairros_rio = bairros_rio.reset_index()\n",
    "bairros_rio"
   ],
   "metadata": {
    "colab": {
     "base_uri": "https://localhost:8080/",
     "height": 1000
    },
    "id": "N4RZLDykEGYt",
    "executionInfo": {
     "status": "ok",
     "timestamp": 1686849771758,
     "user_tz": 180,
     "elapsed": 20,
     "user": {
      "displayName": "Joao Miranda",
      "userId": "01467276596263397217"
     }
    },
    "outputId": "aeaaf0be-0102-4eab-b6ae-2fe54c30e8c5"
   },
   "execution_count": null,
   "outputs": []
  },
  {
   "cell_type": "code",
   "source": [
    "for indice in range(len(bairros_rio)):\n",
    "    display(imoveis[imoveis['geometry'].within(bairros_rio['geometry'].iloc[indice])])\n",
    "    print(bairros_rio['NM_BAIRRO'].iloc[indice])"
   ],
   "metadata": {
    "colab": {
     "base_uri": "https://localhost:8080/",
     "height": 1000
    },
    "id": "BVDQHUcDEGRt",
    "executionInfo": {
     "status": "ok",
     "timestamp": 1686849779598,
     "user_tz": 180,
     "elapsed": 7859,
     "user": {
      "displayName": "Joao Miranda",
      "userId": "01467276596263397217"
     }
    },
    "outputId": "93ec2879-db23-4418-908b-d3c1e3719224"
   },
   "execution_count": null,
   "outputs": []
  },
  {
   "cell_type": "code",
   "source": [
    "imoveis.insert(0, 'NM_BAIRRO', '')"
   ],
   "metadata": {
    "id": "JdLy9JHkEGCs",
    "executionInfo": {
     "status": "ok",
     "timestamp": 1686849779599,
     "user_tz": 180,
     "elapsed": 12,
     "user": {
      "displayName": "Joao Miranda",
      "userId": "01467276596263397217"
     }
    }
   },
   "execution_count": null,
   "outputs": []
  },
  {
   "cell_type": "code",
   "source": [
    "for indice in range(len(bairros_rio)):\n",
    "    imoveis.loc[imoveis['geometry'].within(bairros_rio['geometry'].iloc[indice]), 'NM_BAIRRO'] = bairros_rio['NM_BAIRRO'].iloc[indice]"
   ],
   "metadata": {
    "id": "yl2coajDEFrM",
    "executionInfo": {
     "status": "ok",
     "timestamp": 1686849804653,
     "user_tz": 180,
     "elapsed": 5107,
     "user": {
      "displayName": "Joao Miranda",
      "userId": "01467276596263397217"
     }
    }
   },
   "execution_count": null,
   "outputs": []
  },
  {
   "cell_type": "code",
   "source": [
    "imoveis"
   ],
   "metadata": {
    "colab": {
     "base_uri": "https://localhost:8080/",
     "height": 834
    },
    "id": "U3J5866sEFMt",
    "executionInfo": {
     "status": "ok",
     "timestamp": 1686849808613,
     "user_tz": 180,
     "elapsed": 888,
     "user": {
      "displayName": "Joao Miranda",
      "userId": "01467276596263397217"
     }
    },
    "outputId": "e1b203fa-9875-4073-d5e5-5e486bab14af"
   },
   "execution_count": null,
   "outputs": []
  },
  {
   "cell_type": "code",
   "source": [
    "imoveis.head()"
   ],
   "metadata": {
    "colab": {
     "base_uri": "https://localhost:8080/",
     "height": 443
    },
    "id": "Za_ti4jJIt30",
    "executionInfo": {
     "status": "ok",
     "timestamp": 1686849817285,
     "user_tz": 180,
     "elapsed": 269,
     "user": {
      "displayName": "Joao Miranda",
      "userId": "01467276596263397217"
     }
    },
    "outputId": "292d1a02-b450-406e-be95-505a8087e519"
   },
   "execution_count": null,
   "outputs": []
  },
  {
   "cell_type": "code",
   "source": [
    "estatisticas_bairros = imoveis.groupby('NM_BAIRRO')[['Valor', 'Tipo', 'Area']].agg({'Valor':['min', 'mean', 'max'], 'Tipo': 'count', 'Area':['min', 'max']})\n",
    "estatisticas_bairros"
   ],
   "metadata": {
    "colab": {
     "base_uri": "https://localhost:8080/",
     "height": 486
    },
    "id": "U_yq-C08Itx6",
    "executionInfo": {
     "status": "ok",
     "timestamp": 1686849821793,
     "user_tz": 180,
     "elapsed": 363,
     "user": {
      "displayName": "Joao Miranda",
      "userId": "01467276596263397217"
     }
    },
    "outputId": "7b8e9d06-6d17-44bc-e4c5-6c4881653a6a"
   },
   "execution_count": null,
   "outputs": []
  },
  {
   "cell_type": "code",
   "source": [
    "estatisticas_bairros = estatisticas_bairros.droplevel(level = 0, axis = 1).reset_index()\n",
    "estatisticas_bairros.columns = ['NM_BAIRRO', 'preco_min', 'preco_medio', 'preco_max', 'qtd_imoveis', 'area_min', 'area_max']\n",
    "estatisticas_bairros"
   ],
   "metadata": {
    "colab": {
     "base_uri": "https://localhost:8080/",
     "height": 423
    },
    "id": "J-If_eotItqg",
    "executionInfo": {
     "status": "ok",
     "timestamp": 1686849825883,
     "user_tz": 180,
     "elapsed": 774,
     "user": {
      "displayName": "Joao Miranda",
      "userId": "01467276596263397217"
     }
    },
    "outputId": "fed7f3f3-a609-4684-f568-63c0ca0d18cc"
   },
   "execution_count": null,
   "outputs": []
  },
  {
   "cell_type": "code",
   "source": [
    "bairros_rio.to_json()"
   ],
   "metadata": {
    "colab": {
     "base_uri": "https://localhost:8080/",
     "height": 139,
     "output_embedded_package_id": "1ak9ZZeeELsrMgpcmdpB47AfayG3XPR9g"
    },
    "id": "u_BBhUimGmZp",
    "executionInfo": {
     "status": "ok",
     "timestamp": 1686850154451,
     "user_tz": 180,
     "elapsed": 2086,
     "user": {
      "displayName": "Joao Miranda",
      "userId": "01467276596263397217"
     }
    },
    "outputId": "a7097a97-e07f-4ff6-db6e-e50730d3b24d"
   },
   "execution_count": null,
   "outputs": []
  },
  {
   "cell_type": "code",
   "source": [
    "mapa_rio = folium.Map(location = [imoveis['Latitude'].mean(), imoveis['Longitude'].mean()],\n",
    "                      zoom_start = 10,\n",
    "                      tiles = 'cartodbpositron')\n",
    "\n",
    "folium.Choropleth(geo_data = bairros_rio,\n",
    "                  data= estatisticas_bairros,\n",
    "                  columns = ['NM_BAIRRO', 'preco_medio'],\n",
    "                  key_on = 'feature.properties.NM_BAIRRO',\n",
    "                  fill_color = 'YlOrRd',\n",
    "                  nan_fill_color = 'white',\n",
    "                  bins = 10,\n",
    "                  highlight = True,\n",
    "                  legend_name = 'Média do valor do imóvel').add_to(mapa_rio)\n",
    "\n",
    "mapa_rio"
   ],
   "metadata": {
    "colab": {
     "base_uri": "https://localhost:8080/",
     "height": 712,
     "output_embedded_package_id": "1fUcR6PjtoqCH7iDx6j_lq9Dt-2v8OZuY"
    },
    "id": "Avem8HbVEUOR",
    "executionInfo": {
     "status": "ok",
     "timestamp": 1686850338923,
     "user_tz": 180,
     "elapsed": 3265,
     "user": {
      "displayName": "Joao Miranda",
      "userId": "01467276596263397217"
     }
    },
    "outputId": "114a3965-0338-48d7-b502-cf162764dd2b"
   },
   "execution_count": null,
   "outputs": []
  },
  {
   "cell_type": "code",
   "source": [
    "from folium.plugins import Fullscreen"
   ],
   "metadata": {
    "id": "7UyXttXvEUBU",
    "executionInfo": {
     "status": "ok",
     "timestamp": 1686850407629,
     "user_tz": 180,
     "elapsed": 403,
     "user": {
      "displayName": "Joao Miranda",
      "userId": "01467276596263397217"
     }
    }
   },
   "execution_count": null,
   "outputs": []
  },
  {
   "cell_type": "code",
   "source": [
    "cluster = MarkerCluster()\n",
    "\n",
    "imoveis.apply(\n",
    "    lambda linha: folium.Marker(\n",
    "        location = [linha['Latitude'],\n",
    "                    linha['Longitude']],\n",
    "        icon = folium.Icon(color = linha['cor'], icon = 'fa-home', prefix = 'fa'),\n",
    "        popup = folium.Popup(f'''<b>Bairro</b>: {linha[\"Bairro\"]}<br>\n",
    "                                <b>Área</b>: {linha[\"Area\"]} m²<br>\n",
    "                                <b>Valor</b>: R$ {linha[\"Valor\"]},00<br>\n",
    "                                <b>Quartos</b>: {linha[\"Quartos\"]}\n",
    "                            ''',\n",
    "                             max_width = 200,\n",
    "                             sticky = True)\n",
    "    ).add_to(cluster), axis = 1\n",
    ")\n",
    "\n",
    "cluster.add_to(mapa_rio)\n",
    "\n",
    "Fullscreen().add_to(mapa_rio)\n",
    "mapa_rio"
   ],
   "metadata": {
    "colab": {
     "base_uri": "https://localhost:8080/",
     "height": 712,
     "output_embedded_package_id": "1rknxKWbzYs5myx-aWZJX8nHKzNR7VfMr"
    },
    "id": "ujaEE5kzET4p",
    "executionInfo": {
     "status": "ok",
     "timestamp": 1686850481974,
     "user_tz": 180,
     "elapsed": 14550,
     "user": {
      "displayName": "Joao Miranda",
      "userId": "01467276596263397217"
     }
    },
    "outputId": "1567be56-800e-477f-acbe-968083b7d164"
   },
   "execution_count": null,
   "outputs": []
  },
  {
   "cell_type": "code",
   "source": [
    "geografia_bairros = bairros_rio[['NM_BAIRRO', 'geometry']]\n",
    "geografia_bairros"
   ],
   "metadata": {
    "colab": {
     "base_uri": "https://localhost:8080/",
     "height": 423
    },
    "id": "4u9n1Y-iIcMi",
    "executionInfo": {
     "status": "ok",
     "timestamp": 1686850832092,
     "user_tz": 180,
     "elapsed": 906,
     "user": {
      "displayName": "Joao Miranda",
      "userId": "01467276596263397217"
     }
    },
    "outputId": "6940bfc2-8c64-462d-ea93-cd1270e8ba4a"
   },
   "execution_count": null,
   "outputs": []
  },
  {
   "cell_type": "code",
   "source": [
    "estatisticas_bairros = gpd.GeoDataFrame(estatisticas_bairros.merge(geografia_bairros, on = 'NM_BAIRRO', how = 'left'))\n",
    "estatisticas_bairros"
   ],
   "metadata": {
    "colab": {
     "base_uri": "https://localhost:8080/",
     "height": 423
    },
    "id": "6bcOyhG9IcEu",
    "executionInfo": {
     "status": "ok",
     "timestamp": 1686850954044,
     "user_tz": 180,
     "elapsed": 324,
     "user": {
      "displayName": "Joao Miranda",
      "userId": "01467276596263397217"
     }
    },
    "outputId": "062ee7f6-60c8-4283-8289-d8cce494a198"
   },
   "execution_count": null,
   "outputs": []
  },
  {
   "cell_type": "code",
   "source": [
    "style_function = lambda x: {'fillColor': '#ffffff',\n",
    "                            'color':'#000000',\n",
    "                            'fillOpacity': 0.1,\n",
    "                            'weight': 0.1}\n",
    "highlight_function = lambda x: {'fillColor': '#000000',\n",
    "                                'color':'#000000',\n",
    "                                'fillOpacity': 0.5,\n",
    "                                'weight': 0.1}\n",
    "\n",
    "config = folium.features.GeoJson(\n",
    "    estatisticas_bairros,\n",
    "    style_function = style_function,\n",
    "    highlight_function= highlight_function,\n",
    "    tooltip = folium.features.GeoJsonTooltip(\n",
    "        fields=['NM_BAIRRO', 'preco_min', 'preco_medio', 'preco_max', 'qtd_imoveis', 'area_min', 'area_max'],\n",
    "        aliases=['Bairro: ', 'Preço mínimo: ', 'Preço médio: ', 'Preço máximo: ', 'Quantidade de imóveis', 'Área mínima: ', 'Área máxima: '],\n",
    "        style=(\"background-color: white; color: #333333; font-family: arial; font-size: 12px; padding: 10px;\")\n",
    "\n",
    "    )\n",
    ")\n",
    "\n",
    "mapa_rio.add_child(config)\n",
    "mapa_rio.keep_in_front(config)\n",
    "\n",
    "mapa_rio.save('mapa_imoveis_rio.html')\n",
    "mapa_rio"
   ],
   "metadata": {
    "colab": {
     "base_uri": "https://localhost:8080/",
     "height": 712,
     "output_embedded_package_id": "1uihVpd-toYcgqst5o2wiTrPMWJox2UBk"
    },
    "id": "12wZNo9XIb2J",
    "executionInfo": {
     "status": "ok",
     "timestamp": 1686851368375,
     "user_tz": 180,
     "elapsed": 26223,
     "user": {
      "displayName": "Joao Miranda",
      "userId": "01467276596263397217"
     }
    },
    "outputId": "7d8b5ab7-16d2-44f1-c0fc-8cfeaa317b24"
   },
   "execution_count": null,
   "outputs": []
  }
 ]
}
